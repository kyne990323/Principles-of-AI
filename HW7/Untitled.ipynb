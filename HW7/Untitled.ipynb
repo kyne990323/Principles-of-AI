{
 "cells": [
  {
   "cell_type": "code",
   "execution_count": 1,
   "id": "48e6c9ab",
   "metadata": {},
   "outputs": [
    {
     "data": {
      "image/png": "[encoded data removed]",
      "text/plain": [
       "<Figure size 432x288 with 1 Axes>"
      ]
     },
     "metadata": {
      "needs_background": "light"
     },
     "output_type": "display_data"
    },
    {
     "name": "stdout",
     "output_type": "stream",
     "text": [
      "a house divided against itself cannot stannd\n"
     ]
    }
   ],
   "source": [
    "import string\n",
    "\n",
    "import numpy as np\n",
    "import matplotlib.pyplot as plt\n",
    "b = np.loadtxt('emissionMatrix.txt')\n",
    "pi = np.loadtxt('initialStateDistribution.txt')\n",
    "obs = np.loadtxt('observations.txt').astype(int)\n",
    "a = np.loadtxt('transitionMatrix.txt')\n",
    "log_a = np.log(a)\n",
    "T = len(obs)\n",
    "n = len(pi)\n",
    "l = np.zeros((n, T))\n",
    "phi = np.zeros((T, n))\n",
    "for j in range(l.shape[1]):\n",
    "    for i in range(l.shape[0]):\n",
    "        if j == 0:\n",
    "            l[i][j] = np.log(pi[i]) + np.log(b[i][obs[0]])\n",
    "        if j > 0:\n",
    "            l_it = l[:, j-1]\n",
    "            a_ij = log_a[:, i]\n",
    "            first = np.max(l_it + a_ij)\n",
    "            phi[j][i] = np.argmax(l_it + a_ij)\n",
    "            l[i][j] = first + np.log(b[i][obs[j]])\n",
    "s = np.zeros(len(obs))\n",
    "s[-1] = int(np.argmax(l[:, -1].flatten()))\n",
    "for t in range(len(obs) - 2, -1, -1):\n",
    "    s[t] = phi[t+1][int(s[t+1])]\n",
    "x = range(0, len(obs))\n",
    "plt.plot(x, s)\n",
    "plt.show()\n",
    "\n",
    "alphabet = list('abcdefghijklmnopqrstuvwxyz ')\n",
    "result = []\n",
    "for i in range(len(s)):\n",
    "    if i == 0:\n",
    "        result.append(alphabet[int(s[0])])\n",
    "        continue\n",
    "    if s[i] == s[i - 1]:\n",
    "        if alphabet[int(s[i - 1])] == 'n' and alphabet[int(s[i - 2])] == 'a':\n",
    "            result.append(alphabet[int(s[i])])\n",
    "        else:\n",
    "            continue\n",
    "    else:\n",
    "        result.append(alphabet[int(s[i])])\n",
    "result = ''.join(result)\n",
    "print(result)"
   ]
  },
  {
   "cell_type": "code",
   "execution_count": null,
   "id": "2dd283af",
   "metadata": {},
   "outputs": [],
   "source": []
  }
 ],
 "metadata": {
  "kernelspec": {
   "display_name": "Python 3",
   "language": "python",
   "name": "python3"
  },
  "language_info": {
   "codemirror_mode": {
    "name": "ipython",
    "version": 3
   },
   "file_extension": ".py",
   "mimetype": "text/x-python",
   "name": "python",
   "nbconvert_exporter": "python",
   "pygments_lexer": "ipython3",
   "version": "3.8.8"
  }
 },
 "nbformat": 4,
 "nbformat_minor": 5
}
